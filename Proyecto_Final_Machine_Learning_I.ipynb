{
  "nbformat": 4,
  "nbformat_minor": 0,
  "metadata": {
    "colab": {
      "provenance": [],
      "include_colab_link": true
    },
    "kernelspec": {
      "name": "python3",
      "display_name": "Python 3"
    },
    "language_info": {
      "name": "python"
    }
  },
  "cells": [
    {
      "cell_type": "markdown",
      "metadata": {
        "id": "view-in-github",
        "colab_type": "text"
      },
      "source": [
        "<a href=\"https://colab.research.google.com/github/lauBit/spotify/blob/main/Proyecto_Final_Machine_Learning_I.ipynb\" target=\"_parent\"><img src=\"https://colab.research.google.com/assets/colab-badge.svg\" alt=\"Open In Colab\"/></a>"
      ]
    },
    {
      "cell_type": "markdown",
      "source": [
        "# Proyecto Final Machine Learning I – Modelo de Análisis de Canciones de Spotify"
      ],
      "metadata": {
        "id": "5ODUTVP79Cmj"
      }
    },
    {
      "cell_type": "markdown",
      "source": [
        "Integrantes del Grupo:\n",
        "\n",
        "- Paola Romero\n",
        "- Fernando Montaño\n",
        "- Laura Camelo\n",
        "- Daniel Garcia"
      ],
      "metadata": {
        "id": "CXfZrW1u9Wle"
      }
    },
    {
      "cell_type": "markdown",
      "source": [
        "## Explicación Breve de la Actividad"
      ],
      "metadata": {
        "id": "he9okcZi9c3i"
      }
    },
    {
      "cell_type": "markdown",
      "source": [
        "Se desea analizar que patrones hay para identificar si una cancion esta en el rankink o no.\n",
        "Predecir la popularidad de las canciones en la data\n",
        "Punto 2 y 6."
      ],
      "metadata": {
        "id": "KXDE8e2i9jRS"
      }
    },
    {
      "cell_type": "markdown",
      "source": [
        "## Importación de Librerias"
      ],
      "metadata": {
        "id": "-ri9-PDV-MC3"
      }
    },
    {
      "cell_type": "code",
      "execution_count": null,
      "metadata": {
        "id": "7uluMKC68uQ6"
      },
      "outputs": [],
      "source": [
        "import pandas as pd\n",
        "import matplotlib.pyplot as plt\n",
        "import seaborn as sns\n",
        "import numpy as np"
      ]
    },
    {
      "cell_type": "code",
      "source": [
        "df = pd.read_csv('')"
      ],
      "metadata": {
        "id": "hAovLCBF-7fg"
      },
      "execution_count": null,
      "outputs": []
    }
  ]
}